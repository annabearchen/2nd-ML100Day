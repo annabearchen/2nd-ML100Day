{
 "cells": [
  {
   "cell_type": "markdown",
   "metadata": {},
   "source": [
    "## 練習時間\n",
    "在小量的資料上，我們用眼睛就可以看得出來程式碼是否有跑出我們理想中的結果\n",
    "\n",
    "請嘗試想像一個你需要的資料結構 (裡面的值可以是隨機的)，然後用上述的方法把它變成 pandas DataFrame\n",
    "\n",
    "#### Ex: 想像一個 dataframe 有兩個欄位，一個是國家，一個是人口，求人口數最多的國家\n",
    "\n",
    "### Hints: [隨機產生數值](https://blog.csdn.net/christianashannon/article/details/78867204)"
   ]
  },
  {
   "cell_type": "code",
   "execution_count": 17,
   "metadata": {},
   "outputs": [],
   "source": [
    "import pandas as pd\n",
    "import numpy as np"
   ]
  },
  {
   "cell_type": "code",
   "execution_count": 27,
   "metadata": {},
   "outputs": [
    {
     "name": "stdout",
     "output_type": "stream",
     "text": [
      "           人口\n",
      "國家           \n",
      "A   8256265.0\n",
      "B   2010214.0\n",
      "C   5745269.0\n",
      "D   7570046.0\n",
      "E   3273212.0\n",
      "F   7084476.0\n",
      "G   4251092.0\n",
      "H   5923016.0\n",
      "I   8873361.0\n",
      "J   4716808.0\n"
     ]
    }
   ],
   "source": [
    "pp=np.random.rand(10)*10000000  #先隨機產生浮點數，同時把它變大1000萬倍\n",
    "list_pp=[round(popu,0) for popu in pp] #然後取到整數位\n",
    "data = {'國家': [\"A\",\"B\",\"C\",\"D\",\"E\",\"F\",\"G\",\"H\",\"I\",\"J\"],\n",
    "        '人口': list_pp} #產生字典\n",
    "data_one = pd.DataFrame(data) #將字典資料轉為dataframe格式\n",
    "data_one.set_index(\"國家\", inplace=True) #將index設為國家那一欄\n",
    "\n",
    "print(data_one)"
   ]
  },
  {
   "cell_type": "code",
   "execution_count": 28,
   "metadata": {},
   "outputs": [
    {
     "data": {
      "text/plain": [
       "'I'"
      ]
     },
     "execution_count": 28,
     "metadata": {},
     "output_type": "execute_result"
    }
   ],
   "source": [
    "data_one[\"人口\"].idxmax() #找出人口最多的國家"
   ]
  },
  {
   "cell_type": "code",
   "execution_count": null,
   "metadata": {},
   "outputs": [],
   "source": []
  }
 ],
 "metadata": {
  "kernelspec": {
   "display_name": "Python 3",
   "language": "python",
   "name": "python3"
  },
  "language_info": {
   "codemirror_mode": {
    "name": "ipython",
    "version": 3
   },
   "file_extension": ".py",
   "mimetype": "text/x-python",
   "name": "python",
   "nbconvert_exporter": "python",
   "pygments_lexer": "ipython3",
   "version": "3.6.5"
  }
 },
 "nbformat": 4,
 "nbformat_minor": 2
}
